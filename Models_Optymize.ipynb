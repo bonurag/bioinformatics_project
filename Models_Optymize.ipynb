{
 "cells": [
  {
   "cell_type": "code",
   "execution_count": 1,
   "metadata": {
    "collapsed": false,
    "pycharm": {
     "name": "#%%\n"
    }
   },
   "outputs": [],
   "source": [
    "from typing import Dict, List, Tuple, Optional, Union\n",
    "import silence_tensorflow.auto\n",
    "import time\n",
    "from utils.models_tuner import *\n",
    "from utils.data_processing import to_bed"
   ]
  },
  {
   "cell_type": "code",
   "execution_count": null,
   "metadata": {},
   "outputs": [],
   "source": [
    "from ucsc_genomes_downloader import Genome\n",
    "\n",
    "genome = Genome(\"hg38\", cache_directory=GENOME_CACHE_DIR)"
   ]
  },
  {
   "cell_type": "code",
   "execution_count": 3,
   "metadata": {
    "executionInfo": {
     "elapsed": 252,
     "status": "ok",
     "timestamp": 1639319795013,
     "user": {
      "displayName": "Giuseppe Bonura",
      "photoUrl": "https://lh3.googleusercontent.com/a-/AOh14Ggpg6yYD2jl5FC3Q18YRd8xIR88r8Qu4T2XUmowMA=s64",
      "userId": "06482237288690829528"
     },
     "user_tz": -60
    },
    "id": "rjXiVpBXFl7e"
   },
   "outputs": [],
   "source": [
    "from sklearn.model_selection import StratifiedShuffleSplit, ShuffleSplit\n",
    "\n",
    "holdouts_generator = StratifiedShuffleSplit(\n",
    "    n_splits=HOLDOUTS_NUM_SPLIT,\n",
    "    test_size=TEST_SIZE\n",
    ")"
   ]
  },
  {
   "cell_type": "code",
   "execution_count": 4,
   "metadata": {
    "id": "meAKKZQhFlOh"
   },
   "outputs": [
    {
     "name": "stderr",
     "output_type": "stream",
     "text": [
      "Tasks:   0%|          | 0/2 [00:00<?, ?it/s]2021-12-21 09:08:43.537 | INFO     | utils.models_tuner:tuner_evaluation:120 - Start hyperparameter tuning for ffnn\n"
     ]
    },
    {
     "name": "stdout",
     "output_type": "stream",
     "text": [
      "Get Layer From ffnn Models!\n"
     ]
    },
    {
     "name": "stderr",
     "output_type": "stream",
     "text": [
      "2021-12-21 09:08:46.124 | INFO     | utils.models_tuner:tuner_evaluation:120 - Start hyperparameter tuning for cnn\n"
     ]
    },
    {
     "name": "stdout",
     "output_type": "stream",
     "text": [
      "Get Layer From cnn Models!\n",
      "check_ffn_param: True check_cnn_param: True input_layers: {'input_epigenomic_data': <KerasTensor: shape=(None, 58) dtype=float32 (created by layer 'input_epigenomic_data')>, 'input_sequence_data': <KerasTensor: shape=(None, 256, 4) dtype=float32 (created by layer 'input_sequence_data')>} output_layers: {'last_hidden_ffnn': <KerasTensor: shape=(None, 208) dtype=float32 (created by layer 'last_hidden_ffnn')>, 'last_hidden_cnn': <KerasTensor: shape=(None, 80) dtype=float32 (created by layer 'last_hidden_cnn')>} \n",
      "model_name: mmnn input_layers: {'input_epigenomic_data': <KerasTensor: shape=(None, 58) dtype=float32 (created by layer 'input_epigenomic_data')>, 'input_sequence_data': <KerasTensor: shape=(None, 256, 4) dtype=float32 (created by layer 'input_sequence_data')>} hidden_layers: {'last_hidden_ffnn': <KerasTensor: shape=(None, 208) dtype=float32 (created by layer 'last_hidden_ffnn')>, 'last_hidden_cnn': <KerasTensor: shape=(None, 80) dtype=float32 (created by layer 'last_hidden_cnn')>}\n",
      "KerasTensor(type_spec=TensorSpec(shape=(None, 58), dtype=tf.float32, name='input_epigenomic_data'), name='input_epigenomic_data', description=\"created by layer 'input_epigenomic_data'\")\n"
     ]
    },
    {
     "name": "stderr",
     "output_type": "stream",
     "text": [
      "2021-12-21 09:09:17.678 | INFO     | utils.models_tuner:tuner_evaluation:120 - Start hyperparameter tuning for mmnn\n",
      "2021-12-21 09:09:26.237 | INFO     | utils.models_tuner:tuner_evaluation:120 - Start hyperparameter tuning for ffnn\n"
     ]
    },
    {
     "name": "stdout",
     "output_type": "stream",
     "text": [
      "Get Layer From ffnn Models!\n"
     ]
    },
    {
     "name": "stderr",
     "output_type": "stream",
     "text": [
      "2021-12-21 09:09:27.274 | INFO     | utils.models_tuner:tuner_evaluation:120 - Start hyperparameter tuning for cnn\n"
     ]
    },
    {
     "name": "stdout",
     "output_type": "stream",
     "text": [
      "Get Layer From cnn Models!\n",
      "check_ffn_param: True check_cnn_param: True input_layers: {'input_epigenomic_data': <KerasTensor: shape=(None, 58) dtype=float32 (created by layer 'input_epigenomic_data')>, 'input_sequence_data': <KerasTensor: shape=(None, 256, 4) dtype=float32 (created by layer 'input_sequence_data')>} output_layers: {'last_hidden_ffnn': <KerasTensor: shape=(None, 208) dtype=float32 (created by layer 'last_hidden_ffnn')>, 'last_hidden_cnn': <KerasTensor: shape=(None, 80) dtype=float32 (created by layer 'last_hidden_cnn')>} \n",
      "model_name: mmnn input_layers: {'input_epigenomic_data': <KerasTensor: shape=(None, 58) dtype=float32 (created by layer 'input_epigenomic_data')>, 'input_sequence_data': <KerasTensor: shape=(None, 256, 4) dtype=float32 (created by layer 'input_sequence_data')>} hidden_layers: {'last_hidden_ffnn': <KerasTensor: shape=(None, 208) dtype=float32 (created by layer 'last_hidden_ffnn')>, 'last_hidden_cnn': <KerasTensor: shape=(None, 80) dtype=float32 (created by layer 'last_hidden_cnn')>}\n",
      "KerasTensor(type_spec=TensorSpec(shape=(None, 58), dtype=tf.float32, name='input_epigenomic_data'), name='input_epigenomic_data', description=\"created by layer 'input_epigenomic_data'\")\n"
     ]
    },
    {
     "name": "stderr",
     "output_type": "stream",
     "text": [
      "2021-12-21 09:09:35.503 | INFO     | utils.models_tuner:tuner_evaluation:120 - Start hyperparameter tuning for mmnn\n",
      "Tasks:  50%|█████     | 1/2 [01:06<01:06, 66.83s/it]2021-12-21 09:09:50.658 | INFO     | utils.models_tuner:tuner_evaluation:120 - Start hyperparameter tuning for ffnn\n"
     ]
    },
    {
     "name": "stdout",
     "output_type": "stream",
     "text": [
      "Get Layer From ffnn Models!\n"
     ]
    },
    {
     "name": "stderr",
     "output_type": "stream",
     "text": [
      "2021-12-21 09:09:51.558 | INFO     | utils.models_tuner:tuner_evaluation:120 - Start hyperparameter tuning for cnn\n"
     ]
    },
    {
     "name": "stdout",
     "output_type": "stream",
     "text": [
      "Get Layer From cnn Models!\n",
      "check_ffn_param: True check_cnn_param: True input_layers: {'input_epigenomic_data': <KerasTensor: shape=(None, 58) dtype=float32 (created by layer 'input_epigenomic_data')>, 'input_sequence_data': <KerasTensor: shape=(None, 256, 4) dtype=float32 (created by layer 'input_sequence_data')>} output_layers: {'last_hidden_ffnn': <KerasTensor: shape=(None, 208) dtype=float32 (created by layer 'last_hidden_ffnn')>, 'last_hidden_cnn': <KerasTensor: shape=(None, 80) dtype=float32 (created by layer 'last_hidden_cnn')>} \n",
      "model_name: mmnn input_layers: {'input_epigenomic_data': <KerasTensor: shape=(None, 58) dtype=float32 (created by layer 'input_epigenomic_data')>, 'input_sequence_data': <KerasTensor: shape=(None, 256, 4) dtype=float32 (created by layer 'input_sequence_data')>} hidden_layers: {'last_hidden_ffnn': <KerasTensor: shape=(None, 208) dtype=float32 (created by layer 'last_hidden_ffnn')>, 'last_hidden_cnn': <KerasTensor: shape=(None, 80) dtype=float32 (created by layer 'last_hidden_cnn')>}\n",
      "KerasTensor(type_spec=TensorSpec(shape=(None, 58), dtype=tf.float32, name='input_epigenomic_data'), name='input_epigenomic_data', description=\"created by layer 'input_epigenomic_data'\")\n"
     ]
    },
    {
     "name": "stderr",
     "output_type": "stream",
     "text": [
      "2021-12-21 09:10:08.318 | INFO     | utils.models_tuner:tuner_evaluation:120 - Start hyperparameter tuning for mmnn\n",
      "2021-12-21 09:10:25.065 | INFO     | utils.models_tuner:tuner_evaluation:120 - Start hyperparameter tuning for ffnn\n"
     ]
    },
    {
     "name": "stdout",
     "output_type": "stream",
     "text": [
      "Get Layer From ffnn Models!\n"
     ]
    },
    {
     "name": "stderr",
     "output_type": "stream",
     "text": [
      "2021-12-21 09:10:26.038 | INFO     | utils.models_tuner:tuner_evaluation:120 - Start hyperparameter tuning for cnn\n"
     ]
    },
    {
     "name": "stdout",
     "output_type": "stream",
     "text": [
      "Get Layer From cnn Models!\n",
      "check_ffn_param: True check_cnn_param: True input_layers: {'input_epigenomic_data': <KerasTensor: shape=(None, 58) dtype=float32 (created by layer 'input_epigenomic_data')>, 'input_sequence_data': <KerasTensor: shape=(None, 256, 4) dtype=float32 (created by layer 'input_sequence_data')>} output_layers: {'last_hidden_ffnn': <KerasTensor: shape=(None, 208) dtype=float32 (created by layer 'last_hidden_ffnn')>, 'last_hidden_cnn': <KerasTensor: shape=(None, 80) dtype=float32 (created by layer 'last_hidden_cnn')>} \n",
      "model_name: mmnn input_layers: {'input_epigenomic_data': <KerasTensor: shape=(None, 58) dtype=float32 (created by layer 'input_epigenomic_data')>, 'input_sequence_data': <KerasTensor: shape=(None, 256, 4) dtype=float32 (created by layer 'input_sequence_data')>} hidden_layers: {'last_hidden_ffnn': <KerasTensor: shape=(None, 208) dtype=float32 (created by layer 'last_hidden_ffnn')>, 'last_hidden_cnn': <KerasTensor: shape=(None, 80) dtype=float32 (created by layer 'last_hidden_cnn')>}\n",
      "KerasTensor(type_spec=TensorSpec(shape=(None, 58), dtype=tf.float32, name='input_epigenomic_data'), name='input_epigenomic_data', description=\"created by layer 'input_epigenomic_data'\")\n"
     ]
    },
    {
     "name": "stderr",
     "output_type": "stream",
     "text": [
      "2021-12-21 09:10:42.403 | INFO     | utils.models_tuner:tuner_evaluation:120 - Start hyperparameter tuning for mmnn\n",
      "Tasks: 100%|██████████| 2/2 [02:21<00:00, 70.73s/it]\n"
     ]
    }
   ],
   "source": [
    "from tqdm.auto import tqdm\n",
    "from epigenomic_dataset import active_enhancers_vs_inactive_enhancers, active_promoters_vs_inactive_promoters\n",
    "from epigenomic_dataset.utils import normalize_epigenomic_data\n",
    "from utils.bio_constants import *\n",
    "import warnings\n",
    "warnings.filterwarnings('ignore')\n",
    "\n",
    "all_tuner_results = []\n",
    "all_input_layer = []\n",
    "all_output_layer = []\n",
    "\n",
    "for task, threshold in tqdm((\n",
    "    (active_enhancers_vs_inactive_enhancers, 0),\n",
    "    (active_promoters_vs_inactive_promoters, 1)\n",
    "), desc=\"Tasks\"):\n",
    "    all_results = []\n",
    "    task_name = task.__name__\n",
    "\n",
    "    # We get the task data with binarized labels\n",
    "    X, y = task(\n",
    "        binarize=True,\n",
    "        cell_line=CELL_LINE,\n",
    "        window_size=WINDOW_SIZE,\n",
    "        min_active_tpm_value=threshold,\n",
    "        max_inactive_tpm_value=threshold,\n",
    "        root=\"bio_data/epigenomic/\"+str(task_name),\n",
    "        verbose=1\n",
    "    )\n",
    "    bed = to_bed(X)\n",
    "\n",
    "    # Start the main loop, iterating through the holdouts\n",
    "    for holdout_number, (train_indices, test_indices) in tqdm(\n",
    "        enumerate(holdouts_generator.split(X, y)),\n",
    "        total=HOLDOUTS_NUM_SPLIT,\n",
    "        leave=False,\n",
    "        desc=\"Computing Holdouts For {}\".format(task_name)\n",
    "    ):\n",
    "        # Get the training and test data\n",
    "        train_bed, test_bed = bed.iloc[train_indices], bed.iloc[test_indices]\n",
    "        train_X, test_X = X.iloc[train_indices], X.iloc[test_indices]\n",
    "        train_y, test_y = y.iloc[train_indices], y.iloc[test_indices]\n",
    "\n",
    "        # Impute and normalize the epigenomic data\n",
    "        train_X, test_X = normalize_epigenomic_data(train_X, test_X)\n",
    "\n",
    "        # Flatten the output values\n",
    "        train_y = train_y.values.flatten()\n",
    "        test_y = test_y.values.flatten()\n",
    "\n",
    "        input_layers = {}\n",
    "        output_layers = {}\n",
    "        for model in MODELS_TYPE:\n",
    "            if model == MODEL_TYPE_MMNN:\n",
    "                check_ffn_param = any(\"ffnn_parameters\" in d for d in all_tuner_results[:2])\n",
    "                check_cnn_param = any(\"cnn_parameters\" in d for d in all_tuner_results[:2])\n",
    "                if check_ffn_param and check_cnn_param:\n",
    "                    input_layers[\"input_epigenomic_data\"] = all_tuner_results[0].get(\"ffnn_parameters\").get(\"input_epigenomic_data\")\n",
    "                    input_layers[\"input_sequence_data\"] = all_tuner_results[1].get(\"cnn_parameters\").get(\"input_sequence_data\")\n",
    "                    output_layers[\"last_hidden_ffnn\"] = all_tuner_results[0].get(\"ffnn_parameters\").get(\"last_hidden_ffnn\")\n",
    "                    output_layers[\"last_hidden_cnn\"] = all_tuner_results[1].get(\"cnn_parameters\").get(\"last_hidden_cnn\")\n",
    "                    print(f\"check_ffn_param: {check_ffn_param} check_cnn_param: {check_cnn_param} input_layers: {input_layers} output_layers: {output_layers} \")\n",
    "            tuner_result = hyperparameter_tuning(train_X,\n",
    "                                                test_X,\n",
    "                                                train_y,\n",
    "                                                test_y,\n",
    "                                                train_bed,\n",
    "                                                test_bed,\n",
    "                                                genome,\n",
    "                                                WINDOW_SIZE,\n",
    "                                                holdout_number,\n",
    "                                                task_name, model,\n",
    "                                                input_layers,\n",
    "                                                output_layers)\n",
    "            all_tuner_results.append(tuner_result)"
   ]
  },
  {
   "cell_type": "code",
   "execution_count": 5,
   "metadata": {
    "id": "uaq1BebDdMZ6"
   },
   "outputs": [
    {
     "data": {
      "text/plain": [
       "[{'ffnn': (<keras.engine.functional.Functional at 0x235a27c0a88>,\n",
       "   <KerasTensor: shape=(None, 58) dtype=float32 (created by layer 'input_epigenomic_data')>,\n",
       "   <KerasTensor: shape=(None, 208) dtype=float32 (created by layer 'last_hidden_ffnn')>),\n",
       "  'ffnn_parameters': {'task_name': 'AEvsIE',\n",
       "   'holdout_number': 0,\n",
       "   'learning_rate': 0.01,\n",
       "   'create_date': '21/12/2021-09:08:43',\n",
       "   'num_layers': 6,\n",
       "   'n_neurons0': 160,\n",
       "   'n_neurons1': 208,\n",
       "   'input_epigenomic_data': <KerasTensor: shape=(None, 58) dtype=float32 (created by layer 'input_epigenomic_data')>,\n",
       "   'last_hidden_ffnn': <KerasTensor: shape=(None, 208) dtype=float32 (created by layer 'last_hidden_ffnn')>}},\n",
       " {'cnn': (<keras.engine.functional.Functional at 0x235a4247288>,\n",
       "   <KerasTensor: shape=(None, 256, 4) dtype=float32 (created by layer 'input_sequence_data')>,\n",
       "   <KerasTensor: shape=(None, 80) dtype=float32 (created by layer 'last_hidden_cnn')>),\n",
       "  'cnn_parameters': {'task_name': 'AEvsIE',\n",
       "   'holdout_number': 0,\n",
       "   'learning_rate': 0.01,\n",
       "   'create_date': '21/12/2021-09:09:16',\n",
       "   'num_layers': 5,\n",
       "   'n_neurons0': 64,\n",
       "   'kernel_size0': 8,\n",
       "   'drop_rate': 0.19335805735959433,\n",
       "   'n_neurons1': 32,\n",
       "   'kernel_size1': 2,\n",
       "   'n_neurons_last_out': 80,\n",
       "   'drop_rate_out': 0.39499479777555135,\n",
       "   'input_sequence_data': <KerasTensor: shape=(None, 256, 4) dtype=float32 (created by layer 'input_sequence_data')>,\n",
       "   'last_hidden_cnn': <KerasTensor: shape=(None, 80) dtype=float32 (created by layer 'last_hidden_cnn')>}},\n",
       " {'mmnn': <keras.engine.functional.Functional at 0x235a42edd88>,\n",
       "  'mmnn_parameters': {'task_name': 'AEvsIE',\n",
       "   'holdout_number': 0,\n",
       "   'learning_rate': 0.01,\n",
       "   'create_date': '21/12/2021-09:09:25',\n",
       "   'n_neurons_concat': 64}},\n",
       " {'ffnn': (<keras.engine.functional.Functional at 0x235a2e8a9c8>,\n",
       "   <KerasTensor: shape=(None, 58) dtype=float32 (created by layer 'input_epigenomic_data')>,\n",
       "   <KerasTensor: shape=(None, 208) dtype=float32 (created by layer 'last_hidden_ffnn')>),\n",
       "  'ffnn_parameters': {'task_name': 'AEvsIE',\n",
       "   'holdout_number': 1,\n",
       "   'learning_rate': 0.01,\n",
       "   'create_date': '21/12/2021-09:09:26',\n",
       "   'num_layers': 6,\n",
       "   'n_neurons0': 160,\n",
       "   'n_neurons1': 208,\n",
       "   'input_epigenomic_data': <KerasTensor: shape=(None, 58) dtype=float32 (created by layer 'input_epigenomic_data')>,\n",
       "   'last_hidden_ffnn': <KerasTensor: shape=(None, 208) dtype=float32 (created by layer 'last_hidden_ffnn')>}},\n",
       " {'cnn': (<keras.engine.functional.Functional at 0x235a57f0708>,\n",
       "   <KerasTensor: shape=(None, 256, 4) dtype=float32 (created by layer 'input_sequence_data')>,\n",
       "   <KerasTensor: shape=(None, 80) dtype=float32 (created by layer 'last_hidden_cnn')>),\n",
       "  'cnn_parameters': {'task_name': 'AEvsIE',\n",
       "   'holdout_number': 1,\n",
       "   'learning_rate': 0.01,\n",
       "   'create_date': '21/12/2021-09:09:35',\n",
       "   'num_layers': 5,\n",
       "   'n_neurons0': 64,\n",
       "   'kernel_size0': 8,\n",
       "   'drop_rate': 0.19335805735959433,\n",
       "   'n_neurons1': 32,\n",
       "   'kernel_size1': 2,\n",
       "   'n_neurons_last_out': 80,\n",
       "   'drop_rate_out': 0.39499479777555135,\n",
       "   'input_sequence_data': <KerasTensor: shape=(None, 256, 4) dtype=float32 (created by layer 'input_sequence_data')>,\n",
       "   'last_hidden_cnn': <KerasTensor: shape=(None, 80) dtype=float32 (created by layer 'last_hidden_cnn')>}},\n",
       " {'mmnn': <keras.engine.functional.Functional at 0x235a3ad2048>,\n",
       "  'mmnn_parameters': {'task_name': 'AEvsIE',\n",
       "   'holdout_number': 1,\n",
       "   'learning_rate': 0.01,\n",
       "   'create_date': '21/12/2021-09:09:43',\n",
       "   'n_neurons_concat': 64}},\n",
       " {'ffnn': (<keras.engine.functional.Functional at 0x235a6467a08>,\n",
       "   <KerasTensor: shape=(None, 58) dtype=float32 (created by layer 'input_epigenomic_data')>,\n",
       "   <KerasTensor: shape=(None, 208) dtype=float32 (created by layer 'last_hidden_ffnn')>),\n",
       "  'ffnn_parameters': {'task_name': 'APvsIP',\n",
       "   'holdout_number': 0,\n",
       "   'learning_rate': 0.01,\n",
       "   'create_date': '21/12/2021-09:09:50',\n",
       "   'num_layers': 6,\n",
       "   'n_neurons0': 160,\n",
       "   'n_neurons1': 208,\n",
       "   'input_epigenomic_data': <KerasTensor: shape=(None, 58) dtype=float32 (created by layer 'input_epigenomic_data')>,\n",
       "   'last_hidden_ffnn': <KerasTensor: shape=(None, 208) dtype=float32 (created by layer 'last_hidden_ffnn')>}},\n",
       " {'cnn': (<keras.engine.functional.Functional at 0x235d9221dc8>,\n",
       "   <KerasTensor: shape=(None, 256, 4) dtype=float32 (created by layer 'input_sequence_data')>,\n",
       "   <KerasTensor: shape=(None, 80) dtype=float32 (created by layer 'last_hidden_cnn')>),\n",
       "  'cnn_parameters': {'task_name': 'APvsIP',\n",
       "   'holdout_number': 0,\n",
       "   'learning_rate': 0.01,\n",
       "   'create_date': '21/12/2021-09:10:07',\n",
       "   'num_layers': 5,\n",
       "   'n_neurons0': 64,\n",
       "   'kernel_size0': 8,\n",
       "   'drop_rate': 0.19335805735959433,\n",
       "   'n_neurons1': 32,\n",
       "   'kernel_size1': 2,\n",
       "   'n_neurons_last_out': 80,\n",
       "   'drop_rate_out': 0.39499479777555135,\n",
       "   'input_sequence_data': <KerasTensor: shape=(None, 256, 4) dtype=float32 (created by layer 'input_sequence_data')>,\n",
       "   'last_hidden_cnn': <KerasTensor: shape=(None, 80) dtype=float32 (created by layer 'last_hidden_cnn')>}},\n",
       " {'mmnn': <keras.engine.functional.Functional at 0x235a2ca6e88>,\n",
       "  'mmnn_parameters': {'task_name': 'APvsIP',\n",
       "   'holdout_number': 0,\n",
       "   'learning_rate': 0.01,\n",
       "   'create_date': '21/12/2021-09:10:24',\n",
       "   'n_neurons_concat': 64}},\n",
       " {'ffnn': (<keras.engine.functional.Functional at 0x235a2d57c08>,\n",
       "   <KerasTensor: shape=(None, 58) dtype=float32 (created by layer 'input_epigenomic_data')>,\n",
       "   <KerasTensor: shape=(None, 208) dtype=float32 (created by layer 'last_hidden_ffnn')>),\n",
       "  'ffnn_parameters': {'task_name': 'APvsIP',\n",
       "   'holdout_number': 1,\n",
       "   'learning_rate': 0.01,\n",
       "   'create_date': '21/12/2021-09:10:25',\n",
       "   'num_layers': 6,\n",
       "   'n_neurons0': 160,\n",
       "   'n_neurons1': 208,\n",
       "   'input_epigenomic_data': <KerasTensor: shape=(None, 58) dtype=float32 (created by layer 'input_epigenomic_data')>,\n",
       "   'last_hidden_ffnn': <KerasTensor: shape=(None, 208) dtype=float32 (created by layer 'last_hidden_ffnn')>}},\n",
       " {'cnn': (<keras.engine.functional.Functional at 0x235d8f23788>,\n",
       "   <KerasTensor: shape=(None, 256, 4) dtype=float32 (created by layer 'input_sequence_data')>,\n",
       "   <KerasTensor: shape=(None, 80) dtype=float32 (created by layer 'last_hidden_cnn')>),\n",
       "  'cnn_parameters': {'task_name': 'APvsIP',\n",
       "   'holdout_number': 1,\n",
       "   'learning_rate': 0.01,\n",
       "   'create_date': '21/12/2021-09:10:41',\n",
       "   'num_layers': 5,\n",
       "   'n_neurons0': 64,\n",
       "   'kernel_size0': 8,\n",
       "   'drop_rate': 0.19335805735959433,\n",
       "   'n_neurons1': 32,\n",
       "   'kernel_size1': 2,\n",
       "   'n_neurons_last_out': 80,\n",
       "   'drop_rate_out': 0.39499479777555135,\n",
       "   'input_sequence_data': <KerasTensor: shape=(None, 256, 4) dtype=float32 (created by layer 'input_sequence_data')>,\n",
       "   'last_hidden_cnn': <KerasTensor: shape=(None, 80) dtype=float32 (created by layer 'last_hidden_cnn')>}},\n",
       " {'mmnn': <keras.engine.functional.Functional at 0x235a5ee9048>,\n",
       "  'mmnn_parameters': {'task_name': 'APvsIP',\n",
       "   'holdout_number': 1,\n",
       "   'learning_rate': 0.01,\n",
       "   'create_date': '21/12/2021-09:10:58',\n",
       "   'n_neurons_concat': 64}}]"
      ]
     },
     "execution_count": 5,
     "metadata": {},
     "output_type": "execute_result"
    }
   ],
   "source": [
    "all_tuner_results"
   ]
  },
  {
   "cell_type": "code",
   "execution_count": 6,
   "metadata": {
    "collapsed": false,
    "pycharm": {
     "name": "#%%\n"
    }
   },
   "outputs": [
    {
     "name": "stderr",
     "output_type": "stream",
     "text": [
      "Tasks:   0%|          | 0/2 [00:00<?, ?it/s]\n",
      "\u001b[A\n",
      "Tasks:   0%|          | 0/2 [00:08<?, ?it/s]\n"
     ]
    },
    {
     "ename": "KeyboardInterrupt",
     "evalue": "",
     "output_type": "error",
     "traceback": [
      "\u001b[1;31m---------------------------------------------------------------------------\u001b[0m",
      "\u001b[1;31mKeyboardInterrupt\u001b[0m                         Traceback (most recent call last)",
      "\u001b[1;32m~\\AppData\\Local\\Temp/ipykernel_18628/2147000892.py\u001b[0m in \u001b[0;36m<module>\u001b[1;34m\u001b[0m\n\u001b[0;32m     61\u001b[0m                     \u001b[0mholdout_number\u001b[0m\u001b[1;33m=\u001b[0m\u001b[0mholdout_number\u001b[0m\u001b[1;33m,\u001b[0m\u001b[1;33m\u001b[0m\u001b[1;33m\u001b[0m\u001b[0m\n\u001b[0;32m     62\u001b[0m                     \u001b[0mtask_name\u001b[0m\u001b[1;33m=\u001b[0m\u001b[0mtask_name\u001b[0m\u001b[1;33m,\u001b[0m\u001b[1;33m\u001b[0m\u001b[1;33m\u001b[0m\u001b[0m\n\u001b[1;32m---> 63\u001b[1;33m                     \u001b[0mmax_iter\u001b[0m\u001b[1;33m=\u001b[0m\u001b[1;36m10\u001b[0m\u001b[1;33m\u001b[0m\u001b[1;33m\u001b[0m\u001b[0m\n\u001b[0m\u001b[0;32m     64\u001b[0m                 )\n\u001b[0;32m     65\u001b[0m \u001b[1;33m\u001b[0m\u001b[0m\n",
      "\u001b[1;32mc:\\Users\\Bibbo\\Documents\\VsCode\\Bioinformatica\\bioinformatics_project\\venv\\lib\\site-packages\\cache_decorator\\cache.py\u001b[0m in \u001b[0;36mwrapped\u001b[1;34m(*args, **kwargs)\u001b[0m\n\u001b[0;32m    475\u001b[0m             \u001b[1;31m# otherwise compute the result\u001b[0m\u001b[1;33m\u001b[0m\u001b[1;33m\u001b[0m\u001b[1;33m\u001b[0m\u001b[0m\n\u001b[0;32m    476\u001b[0m             \u001b[0mstart_time\u001b[0m \u001b[1;33m=\u001b[0m \u001b[0mtime\u001b[0m\u001b[1;33m(\u001b[0m\u001b[1;33m)\u001b[0m\u001b[1;33m\u001b[0m\u001b[1;33m\u001b[0m\u001b[0m\n\u001b[1;32m--> 477\u001b[1;33m             \u001b[0mresult\u001b[0m \u001b[1;33m=\u001b[0m \u001b[0mfunction\u001b[0m\u001b[1;33m(\u001b[0m\u001b[1;33m*\u001b[0m\u001b[0margs\u001b[0m\u001b[1;33m,\u001b[0m \u001b[1;33m**\u001b[0m\u001b[0mkwargs\u001b[0m\u001b[1;33m)\u001b[0m\u001b[1;33m\u001b[0m\u001b[1;33m\u001b[0m\u001b[0m\n\u001b[0m\u001b[0;32m    478\u001b[0m             \u001b[0mend_time\u001b[0m \u001b[1;33m=\u001b[0m \u001b[0mtime\u001b[0m\u001b[1;33m(\u001b[0m\u001b[1;33m)\u001b[0m\u001b[1;33m\u001b[0m\u001b[1;33m\u001b[0m\u001b[0m\n\u001b[0;32m    479\u001b[0m \u001b[1;33m\u001b[0m\u001b[0m\n",
      "\u001b[1;32mc:\\Users\\Bibbo\\Documents\\VsCode\\Bioinformatica\\bioinformatics_project\\utils\\data_processing.py\u001b[0m in \u001b[0;36mexecute_boruta_feature_selection\u001b[1;34m(X_train, y_train, holdout_number, task_name, max_iter)\u001b[0m\n\u001b[0;32m    207\u001b[0m     )\n\u001b[0;32m    208\u001b[0m     \u001b[1;31m# Fit the Boruta model\u001b[0m\u001b[1;33m\u001b[0m\u001b[1;33m\u001b[0m\u001b[1;33m\u001b[0m\u001b[0m\n\u001b[1;32m--> 209\u001b[1;33m     \u001b[0mboruta_selector\u001b[0m\u001b[1;33m.\u001b[0m\u001b[0mfit\u001b[0m\u001b[1;33m(\u001b[0m\u001b[0mX_train\u001b[0m\u001b[1;33m.\u001b[0m\u001b[0mvalues\u001b[0m\u001b[1;33m,\u001b[0m \u001b[0my_train\u001b[0m\u001b[1;33m)\u001b[0m\u001b[1;33m\u001b[0m\u001b[1;33m\u001b[0m\u001b[0m\n\u001b[0m\u001b[0;32m    210\u001b[0m \u001b[1;33m\u001b[0m\u001b[0m\n\u001b[0;32m    211\u001b[0m     \u001b[1;31m# Get the kept features and discarded features\u001b[0m\u001b[1;33m\u001b[0m\u001b[1;33m\u001b[0m\u001b[1;33m\u001b[0m\u001b[0m\n",
      "\u001b[1;32mc:\\Users\\Bibbo\\Documents\\VsCode\\Bioinformatica\\bioinformatics_project\\venv\\lib\\site-packages\\boruta\\boruta_py.py\u001b[0m in \u001b[0;36mfit\u001b[1;34m(self, X, y)\u001b[0m\n\u001b[0;32m    199\u001b[0m         \"\"\"\n\u001b[0;32m    200\u001b[0m \u001b[1;33m\u001b[0m\u001b[0m\n\u001b[1;32m--> 201\u001b[1;33m         \u001b[1;32mreturn\u001b[0m \u001b[0mself\u001b[0m\u001b[1;33m.\u001b[0m\u001b[0m_fit\u001b[0m\u001b[1;33m(\u001b[0m\u001b[0mX\u001b[0m\u001b[1;33m,\u001b[0m \u001b[0my\u001b[0m\u001b[1;33m)\u001b[0m\u001b[1;33m\u001b[0m\u001b[1;33m\u001b[0m\u001b[0m\n\u001b[0m\u001b[0;32m    202\u001b[0m \u001b[1;33m\u001b[0m\u001b[0m\n\u001b[0;32m    203\u001b[0m     \u001b[1;32mdef\u001b[0m \u001b[0mtransform\u001b[0m\u001b[1;33m(\u001b[0m\u001b[0mself\u001b[0m\u001b[1;33m,\u001b[0m \u001b[0mX\u001b[0m\u001b[1;33m,\u001b[0m \u001b[0mweak\u001b[0m\u001b[1;33m=\u001b[0m\u001b[1;32mFalse\u001b[0m\u001b[1;33m)\u001b[0m\u001b[1;33m:\u001b[0m\u001b[1;33m\u001b[0m\u001b[1;33m\u001b[0m\u001b[0m\n",
      "\u001b[1;32mc:\\Users\\Bibbo\\Documents\\VsCode\\Bioinformatica\\bioinformatics_project\\venv\\lib\\site-packages\\boruta\\boruta_py.py\u001b[0m in \u001b[0;36m_fit\u001b[1;34m(self, X, y)\u001b[0m\n\u001b[0;32m    283\u001b[0m \u001b[1;33m\u001b[0m\u001b[0m\n\u001b[0;32m    284\u001b[0m             \u001b[1;31m# add shadow attributes, shuffle them and train estimator, get imps\u001b[0m\u001b[1;33m\u001b[0m\u001b[1;33m\u001b[0m\u001b[1;33m\u001b[0m\u001b[0m\n\u001b[1;32m--> 285\u001b[1;33m             \u001b[0mcur_imp\u001b[0m \u001b[1;33m=\u001b[0m \u001b[0mself\u001b[0m\u001b[1;33m.\u001b[0m\u001b[0m_add_shadows_get_imps\u001b[0m\u001b[1;33m(\u001b[0m\u001b[0mX\u001b[0m\u001b[1;33m,\u001b[0m \u001b[0my\u001b[0m\u001b[1;33m,\u001b[0m \u001b[0mdec_reg\u001b[0m\u001b[1;33m)\u001b[0m\u001b[1;33m\u001b[0m\u001b[1;33m\u001b[0m\u001b[0m\n\u001b[0m\u001b[0;32m    286\u001b[0m \u001b[1;33m\u001b[0m\u001b[0m\n\u001b[0;32m    287\u001b[0m             \u001b[1;31m# get the threshold of shadow importances we will use for rejection\u001b[0m\u001b[1;33m\u001b[0m\u001b[1;33m\u001b[0m\u001b[1;33m\u001b[0m\u001b[0m\n",
      "\u001b[1;32mc:\\Users\\Bibbo\\Documents\\VsCode\\Bioinformatica\\bioinformatics_project\\venv\\lib\\site-packages\\boruta\\boruta_py.py\u001b[0m in \u001b[0;36m_add_shadows_get_imps\u001b[1;34m(self, X, y, dec_reg)\u001b[0m\n\u001b[0;32m    410\u001b[0m         \u001b[0mx_sha\u001b[0m \u001b[1;33m=\u001b[0m \u001b[0mnp\u001b[0m\u001b[1;33m.\u001b[0m\u001b[0mapply_along_axis\u001b[0m\u001b[1;33m(\u001b[0m\u001b[0mself\u001b[0m\u001b[1;33m.\u001b[0m\u001b[0m_get_shuffle\u001b[0m\u001b[1;33m,\u001b[0m \u001b[1;36m0\u001b[0m\u001b[1;33m,\u001b[0m \u001b[0mx_sha\u001b[0m\u001b[1;33m)\u001b[0m\u001b[1;33m\u001b[0m\u001b[1;33m\u001b[0m\u001b[0m\n\u001b[0;32m    411\u001b[0m         \u001b[1;31m# get importance of the merged matrix\u001b[0m\u001b[1;33m\u001b[0m\u001b[1;33m\u001b[0m\u001b[1;33m\u001b[0m\u001b[0m\n\u001b[1;32m--> 412\u001b[1;33m         \u001b[0mimp\u001b[0m \u001b[1;33m=\u001b[0m \u001b[0mself\u001b[0m\u001b[1;33m.\u001b[0m\u001b[0m_get_imp\u001b[0m\u001b[1;33m(\u001b[0m\u001b[0mnp\u001b[0m\u001b[1;33m.\u001b[0m\u001b[0mhstack\u001b[0m\u001b[1;33m(\u001b[0m\u001b[1;33m(\u001b[0m\u001b[0mx_cur\u001b[0m\u001b[1;33m,\u001b[0m \u001b[0mx_sha\u001b[0m\u001b[1;33m)\u001b[0m\u001b[1;33m)\u001b[0m\u001b[1;33m,\u001b[0m \u001b[0my\u001b[0m\u001b[1;33m)\u001b[0m\u001b[1;33m\u001b[0m\u001b[1;33m\u001b[0m\u001b[0m\n\u001b[0m\u001b[0;32m    413\u001b[0m         \u001b[1;31m# separate importances of real and shadow features\u001b[0m\u001b[1;33m\u001b[0m\u001b[1;33m\u001b[0m\u001b[1;33m\u001b[0m\u001b[0m\n\u001b[0;32m    414\u001b[0m         \u001b[0mimp_sha\u001b[0m \u001b[1;33m=\u001b[0m \u001b[0mimp\u001b[0m\u001b[1;33m[\u001b[0m\u001b[0mx_cur_w\u001b[0m\u001b[1;33m:\u001b[0m\u001b[1;33m]\u001b[0m\u001b[1;33m\u001b[0m\u001b[1;33m\u001b[0m\u001b[0m\n",
      "\u001b[1;32mc:\\Users\\Bibbo\\Documents\\VsCode\\Bioinformatica\\bioinformatics_project\\venv\\lib\\site-packages\\boruta\\boruta_py.py\u001b[0m in \u001b[0;36m_get_imp\u001b[1;34m(self, X, y)\u001b[0m\n\u001b[0;32m    382\u001b[0m     \u001b[1;32mdef\u001b[0m \u001b[0m_get_imp\u001b[0m\u001b[1;33m(\u001b[0m\u001b[0mself\u001b[0m\u001b[1;33m,\u001b[0m \u001b[0mX\u001b[0m\u001b[1;33m,\u001b[0m \u001b[0my\u001b[0m\u001b[1;33m)\u001b[0m\u001b[1;33m:\u001b[0m\u001b[1;33m\u001b[0m\u001b[1;33m\u001b[0m\u001b[0m\n\u001b[0;32m    383\u001b[0m         \u001b[1;32mtry\u001b[0m\u001b[1;33m:\u001b[0m\u001b[1;33m\u001b[0m\u001b[1;33m\u001b[0m\u001b[0m\n\u001b[1;32m--> 384\u001b[1;33m             \u001b[0mself\u001b[0m\u001b[1;33m.\u001b[0m\u001b[0mestimator\u001b[0m\u001b[1;33m.\u001b[0m\u001b[0mfit\u001b[0m\u001b[1;33m(\u001b[0m\u001b[0mX\u001b[0m\u001b[1;33m,\u001b[0m \u001b[0my\u001b[0m\u001b[1;33m)\u001b[0m\u001b[1;33m\u001b[0m\u001b[1;33m\u001b[0m\u001b[0m\n\u001b[0m\u001b[0;32m    385\u001b[0m         \u001b[1;32mexcept\u001b[0m \u001b[0mException\u001b[0m \u001b[1;32mas\u001b[0m \u001b[0me\u001b[0m\u001b[1;33m:\u001b[0m\u001b[1;33m\u001b[0m\u001b[1;33m\u001b[0m\u001b[0m\n\u001b[0;32m    386\u001b[0m             raise ValueError('Please check your X and y variable. The provided'\n",
      "\u001b[1;32mc:\\Users\\Bibbo\\Documents\\VsCode\\Bioinformatica\\bioinformatics_project\\venv\\lib\\site-packages\\sklearn\\ensemble\\_forest.py\u001b[0m in \u001b[0;36mfit\u001b[1;34m(self, X, y, sample_weight)\u001b[0m\n\u001b[0;32m    457\u001b[0m                     \u001b[0mn_samples_bootstrap\u001b[0m\u001b[1;33m=\u001b[0m\u001b[0mn_samples_bootstrap\u001b[0m\u001b[1;33m,\u001b[0m\u001b[1;33m\u001b[0m\u001b[1;33m\u001b[0m\u001b[0m\n\u001b[0;32m    458\u001b[0m                 )\n\u001b[1;32m--> 459\u001b[1;33m                 \u001b[1;32mfor\u001b[0m \u001b[0mi\u001b[0m\u001b[1;33m,\u001b[0m \u001b[0mt\u001b[0m \u001b[1;32min\u001b[0m \u001b[0menumerate\u001b[0m\u001b[1;33m(\u001b[0m\u001b[0mtrees\u001b[0m\u001b[1;33m)\u001b[0m\u001b[1;33m\u001b[0m\u001b[1;33m\u001b[0m\u001b[0m\n\u001b[0m\u001b[0;32m    460\u001b[0m             )\n\u001b[0;32m    461\u001b[0m \u001b[1;33m\u001b[0m\u001b[0m\n",
      "\u001b[1;32mc:\\Users\\Bibbo\\Documents\\VsCode\\Bioinformatica\\bioinformatics_project\\venv\\lib\\site-packages\\joblib\\parallel.py\u001b[0m in \u001b[0;36m__call__\u001b[1;34m(self, iterable)\u001b[0m\n\u001b[0;32m   1054\u001b[0m \u001b[1;33m\u001b[0m\u001b[0m\n\u001b[0;32m   1055\u001b[0m             \u001b[1;32mwith\u001b[0m \u001b[0mself\u001b[0m\u001b[1;33m.\u001b[0m\u001b[0m_backend\u001b[0m\u001b[1;33m.\u001b[0m\u001b[0mretrieval_context\u001b[0m\u001b[1;33m(\u001b[0m\u001b[1;33m)\u001b[0m\u001b[1;33m:\u001b[0m\u001b[1;33m\u001b[0m\u001b[1;33m\u001b[0m\u001b[0m\n\u001b[1;32m-> 1056\u001b[1;33m                 \u001b[0mself\u001b[0m\u001b[1;33m.\u001b[0m\u001b[0mretrieve\u001b[0m\u001b[1;33m(\u001b[0m\u001b[1;33m)\u001b[0m\u001b[1;33m\u001b[0m\u001b[1;33m\u001b[0m\u001b[0m\n\u001b[0m\u001b[0;32m   1057\u001b[0m             \u001b[1;31m# Make sure that we get a last message telling us we are done\u001b[0m\u001b[1;33m\u001b[0m\u001b[1;33m\u001b[0m\u001b[1;33m\u001b[0m\u001b[0m\n\u001b[0;32m   1058\u001b[0m             \u001b[0melapsed_time\u001b[0m \u001b[1;33m=\u001b[0m \u001b[0mtime\u001b[0m\u001b[1;33m.\u001b[0m\u001b[0mtime\u001b[0m\u001b[1;33m(\u001b[0m\u001b[1;33m)\u001b[0m \u001b[1;33m-\u001b[0m \u001b[0mself\u001b[0m\u001b[1;33m.\u001b[0m\u001b[0m_start_time\u001b[0m\u001b[1;33m\u001b[0m\u001b[1;33m\u001b[0m\u001b[0m\n",
      "\u001b[1;32mc:\\Users\\Bibbo\\Documents\\VsCode\\Bioinformatica\\bioinformatics_project\\venv\\lib\\site-packages\\joblib\\parallel.py\u001b[0m in \u001b[0;36mretrieve\u001b[1;34m(self)\u001b[0m\n\u001b[0;32m    933\u001b[0m             \u001b[1;32mtry\u001b[0m\u001b[1;33m:\u001b[0m\u001b[1;33m\u001b[0m\u001b[1;33m\u001b[0m\u001b[0m\n\u001b[0;32m    934\u001b[0m                 \u001b[1;32mif\u001b[0m \u001b[0mgetattr\u001b[0m\u001b[1;33m(\u001b[0m\u001b[0mself\u001b[0m\u001b[1;33m.\u001b[0m\u001b[0m_backend\u001b[0m\u001b[1;33m,\u001b[0m \u001b[1;34m'supports_timeout'\u001b[0m\u001b[1;33m,\u001b[0m \u001b[1;32mFalse\u001b[0m\u001b[1;33m)\u001b[0m\u001b[1;33m:\u001b[0m\u001b[1;33m\u001b[0m\u001b[1;33m\u001b[0m\u001b[0m\n\u001b[1;32m--> 935\u001b[1;33m                     \u001b[0mself\u001b[0m\u001b[1;33m.\u001b[0m\u001b[0m_output\u001b[0m\u001b[1;33m.\u001b[0m\u001b[0mextend\u001b[0m\u001b[1;33m(\u001b[0m\u001b[0mjob\u001b[0m\u001b[1;33m.\u001b[0m\u001b[0mget\u001b[0m\u001b[1;33m(\u001b[0m\u001b[0mtimeout\u001b[0m\u001b[1;33m=\u001b[0m\u001b[0mself\u001b[0m\u001b[1;33m.\u001b[0m\u001b[0mtimeout\u001b[0m\u001b[1;33m)\u001b[0m\u001b[1;33m)\u001b[0m\u001b[1;33m\u001b[0m\u001b[1;33m\u001b[0m\u001b[0m\n\u001b[0m\u001b[0;32m    936\u001b[0m                 \u001b[1;32melse\u001b[0m\u001b[1;33m:\u001b[0m\u001b[1;33m\u001b[0m\u001b[1;33m\u001b[0m\u001b[0m\n\u001b[0;32m    937\u001b[0m                     \u001b[0mself\u001b[0m\u001b[1;33m.\u001b[0m\u001b[0m_output\u001b[0m\u001b[1;33m.\u001b[0m\u001b[0mextend\u001b[0m\u001b[1;33m(\u001b[0m\u001b[0mjob\u001b[0m\u001b[1;33m.\u001b[0m\u001b[0mget\u001b[0m\u001b[1;33m(\u001b[0m\u001b[1;33m)\u001b[0m\u001b[1;33m)\u001b[0m\u001b[1;33m\u001b[0m\u001b[1;33m\u001b[0m\u001b[0m\n",
      "\u001b[1;32mC:\\Python\\Python37\\lib\\multiprocessing\\pool.py\u001b[0m in \u001b[0;36mget\u001b[1;34m(self, timeout)\u001b[0m\n\u001b[0;32m    649\u001b[0m \u001b[1;33m\u001b[0m\u001b[0m\n\u001b[0;32m    650\u001b[0m     \u001b[1;32mdef\u001b[0m \u001b[0mget\u001b[0m\u001b[1;33m(\u001b[0m\u001b[0mself\u001b[0m\u001b[1;33m,\u001b[0m \u001b[0mtimeout\u001b[0m\u001b[1;33m=\u001b[0m\u001b[1;32mNone\u001b[0m\u001b[1;33m)\u001b[0m\u001b[1;33m:\u001b[0m\u001b[1;33m\u001b[0m\u001b[1;33m\u001b[0m\u001b[0m\n\u001b[1;32m--> 651\u001b[1;33m         \u001b[0mself\u001b[0m\u001b[1;33m.\u001b[0m\u001b[0mwait\u001b[0m\u001b[1;33m(\u001b[0m\u001b[0mtimeout\u001b[0m\u001b[1;33m)\u001b[0m\u001b[1;33m\u001b[0m\u001b[1;33m\u001b[0m\u001b[0m\n\u001b[0m\u001b[0;32m    652\u001b[0m         \u001b[1;32mif\u001b[0m \u001b[1;32mnot\u001b[0m \u001b[0mself\u001b[0m\u001b[1;33m.\u001b[0m\u001b[0mready\u001b[0m\u001b[1;33m(\u001b[0m\u001b[1;33m)\u001b[0m\u001b[1;33m:\u001b[0m\u001b[1;33m\u001b[0m\u001b[1;33m\u001b[0m\u001b[0m\n\u001b[0;32m    653\u001b[0m             \u001b[1;32mraise\u001b[0m \u001b[0mTimeoutError\u001b[0m\u001b[1;33m\u001b[0m\u001b[1;33m\u001b[0m\u001b[0m\n",
      "\u001b[1;32mC:\\Python\\Python37\\lib\\multiprocessing\\pool.py\u001b[0m in \u001b[0;36mwait\u001b[1;34m(self, timeout)\u001b[0m\n\u001b[0;32m    646\u001b[0m \u001b[1;33m\u001b[0m\u001b[0m\n\u001b[0;32m    647\u001b[0m     \u001b[1;32mdef\u001b[0m \u001b[0mwait\u001b[0m\u001b[1;33m(\u001b[0m\u001b[0mself\u001b[0m\u001b[1;33m,\u001b[0m \u001b[0mtimeout\u001b[0m\u001b[1;33m=\u001b[0m\u001b[1;32mNone\u001b[0m\u001b[1;33m)\u001b[0m\u001b[1;33m:\u001b[0m\u001b[1;33m\u001b[0m\u001b[1;33m\u001b[0m\u001b[0m\n\u001b[1;32m--> 648\u001b[1;33m         \u001b[0mself\u001b[0m\u001b[1;33m.\u001b[0m\u001b[0m_event\u001b[0m\u001b[1;33m.\u001b[0m\u001b[0mwait\u001b[0m\u001b[1;33m(\u001b[0m\u001b[0mtimeout\u001b[0m\u001b[1;33m)\u001b[0m\u001b[1;33m\u001b[0m\u001b[1;33m\u001b[0m\u001b[0m\n\u001b[0m\u001b[0;32m    649\u001b[0m \u001b[1;33m\u001b[0m\u001b[0m\n\u001b[0;32m    650\u001b[0m     \u001b[1;32mdef\u001b[0m \u001b[0mget\u001b[0m\u001b[1;33m(\u001b[0m\u001b[0mself\u001b[0m\u001b[1;33m,\u001b[0m \u001b[0mtimeout\u001b[0m\u001b[1;33m=\u001b[0m\u001b[1;32mNone\u001b[0m\u001b[1;33m)\u001b[0m\u001b[1;33m:\u001b[0m\u001b[1;33m\u001b[0m\u001b[1;33m\u001b[0m\u001b[0m\n",
      "\u001b[1;32mC:\\Python\\Python37\\lib\\threading.py\u001b[0m in \u001b[0;36mwait\u001b[1;34m(self, timeout)\u001b[0m\n\u001b[0;32m    550\u001b[0m             \u001b[0msignaled\u001b[0m \u001b[1;33m=\u001b[0m \u001b[0mself\u001b[0m\u001b[1;33m.\u001b[0m\u001b[0m_flag\u001b[0m\u001b[1;33m\u001b[0m\u001b[1;33m\u001b[0m\u001b[0m\n\u001b[0;32m    551\u001b[0m             \u001b[1;32mif\u001b[0m \u001b[1;32mnot\u001b[0m \u001b[0msignaled\u001b[0m\u001b[1;33m:\u001b[0m\u001b[1;33m\u001b[0m\u001b[1;33m\u001b[0m\u001b[0m\n\u001b[1;32m--> 552\u001b[1;33m                 \u001b[0msignaled\u001b[0m \u001b[1;33m=\u001b[0m \u001b[0mself\u001b[0m\u001b[1;33m.\u001b[0m\u001b[0m_cond\u001b[0m\u001b[1;33m.\u001b[0m\u001b[0mwait\u001b[0m\u001b[1;33m(\u001b[0m\u001b[0mtimeout\u001b[0m\u001b[1;33m)\u001b[0m\u001b[1;33m\u001b[0m\u001b[1;33m\u001b[0m\u001b[0m\n\u001b[0m\u001b[0;32m    553\u001b[0m             \u001b[1;32mreturn\u001b[0m \u001b[0msignaled\u001b[0m\u001b[1;33m\u001b[0m\u001b[1;33m\u001b[0m\u001b[0m\n\u001b[0;32m    554\u001b[0m \u001b[1;33m\u001b[0m\u001b[0m\n",
      "\u001b[1;32mC:\\Python\\Python37\\lib\\threading.py\u001b[0m in \u001b[0;36mwait\u001b[1;34m(self, timeout)\u001b[0m\n\u001b[0;32m    294\u001b[0m         \u001b[1;32mtry\u001b[0m\u001b[1;33m:\u001b[0m    \u001b[1;31m# restore state no matter what (e.g., KeyboardInterrupt)\u001b[0m\u001b[1;33m\u001b[0m\u001b[1;33m\u001b[0m\u001b[0m\n\u001b[0;32m    295\u001b[0m             \u001b[1;32mif\u001b[0m \u001b[0mtimeout\u001b[0m \u001b[1;32mis\u001b[0m \u001b[1;32mNone\u001b[0m\u001b[1;33m:\u001b[0m\u001b[1;33m\u001b[0m\u001b[1;33m\u001b[0m\u001b[0m\n\u001b[1;32m--> 296\u001b[1;33m                 \u001b[0mwaiter\u001b[0m\u001b[1;33m.\u001b[0m\u001b[0macquire\u001b[0m\u001b[1;33m(\u001b[0m\u001b[1;33m)\u001b[0m\u001b[1;33m\u001b[0m\u001b[1;33m\u001b[0m\u001b[0m\n\u001b[0m\u001b[0;32m    297\u001b[0m                 \u001b[0mgotit\u001b[0m \u001b[1;33m=\u001b[0m \u001b[1;32mTrue\u001b[0m\u001b[1;33m\u001b[0m\u001b[1;33m\u001b[0m\u001b[0m\n\u001b[0;32m    298\u001b[0m             \u001b[1;32melse\u001b[0m\u001b[1;33m:\u001b[0m\u001b[1;33m\u001b[0m\u001b[1;33m\u001b[0m\u001b[0m\n",
      "\u001b[1;31mKeyboardInterrupt\u001b[0m: "
     ]
    }
   ],
   "source": [
    "from utils.models.build_binary_classification_mmnn import build_binary_classification_mmnn\n",
    "from utils.models.build_binary_classification_cnn import build_binary_classification_cnn\n",
    "from utils.models.build_binary_classification_ffnn import build_binary_classification_ffnn\n",
    "from tqdm.auto import tqdm\n",
    "from utils.data_processing import *\n",
    "from utils.evaluations import train_model\n",
    "from epigenomic_dataset import active_enhancers_vs_inactive_enhancers, active_promoters_vs_inactive_promoters\n",
    "from epigenomic_dataset.utils import normalize_epigenomic_data\n",
    "import time\n",
    "import warnings\n",
    "warnings.filterwarnings('ignore')\n",
    "\n",
    "# Create a list to store all the computed performance\n",
    "all_binary_classification_performance = []\n",
    "\n",
    "training_histories = {}\n",
    "\n",
    "# For each task\n",
    "for task, threshold in tqdm((\n",
    "    (active_enhancers_vs_inactive_enhancers, 0),\n",
    "    (active_promoters_vs_inactive_promoters, 1)\n",
    "), desc=\"Tasks\"):\n",
    "    start_time = time.time()\n",
    "    task_name = task.__name__\n",
    "    # We get the task data with binarized labels\n",
    "    X, y = task(\n",
    "        binarize=True,\n",
    "        cell_line=CELL_LINE,\n",
    "        window_size=WINDOW_SIZE,\n",
    "        min_active_tpm_value=threshold,\n",
    "        max_inactive_tpm_value=threshold,\n",
    "        root=\"bio_data/epigenomic/\"+str(task_name),\n",
    "        verbose=1\n",
    "    )\n",
    "    training_histories[task_name] = []\n",
    "\n",
    "    # Start the main loop, iterating through the holdouts\n",
    "    for holdout_number, (train_indices, test_indices) in tqdm(\n",
    "        enumerate(holdouts_generator.split(X, y)),\n",
    "        total=HOLDOUTS_NUM_SPLIT,\n",
    "        leave=False,\n",
    "        desc=\"Computing Holdouts For {}\".format(task_name)\n",
    "    ):\n",
    "\n",
    "        for use_feature_selection in tqdm((True, False), desc=\"Running Feature Selection For {}\".format(task_name), leave=False):\n",
    "            # Get the training and test data\n",
    "            train_X, test_X = X.iloc[train_indices], X.iloc[test_indices]\n",
    "            train_y, test_y = y.iloc[train_indices], y.iloc[test_indices]\n",
    "\n",
    "            # Impute and normalize the epigenomic data\n",
    "            train_X, test_X = normalize_epigenomic_data(train_X, test_X)\n",
    "\n",
    "            # Flatten the output values\n",
    "            train_y = train_y.values.flatten()\n",
    "            test_y = test_y.values.flatten()\n",
    "\n",
    "            if use_feature_selection:\n",
    "                kept_features, discarded_features = execute_boruta_feature_selection(\n",
    "                    X_train=pd.DataFrame(train_X),\n",
    "                    y_train=train_y,\n",
    "                    holdout_number=holdout_number,\n",
    "                    task_name=task_name,\n",
    "                    max_iter=20\n",
    "                )\n",
    "\n",
    "                if len(kept_features) > 0:\n",
    "                    train_X = train_X[:,kept_features]\n",
    "                    test_X = test_X[:,kept_features]\n",
    "\n",
    "            # Get the number of features of this specific dataset\n",
    "            number_of_features = train_X.shape[1]\n",
    "            ffnn_parameters = all_tuner_results[0].get(\"ffnn_parameters\")\n",
    "            cnn_parameters = all_tuner_results[1].get(\"cnn_parameters\")\n",
    "            mmnn_parameters = all_tuner_results[2].get(\"mmnn_parameters\")\n",
    "\n",
    "            ffnn, input_epigenomic_data, last_hidden_ffnn = build_binary_classification_ffnn(input_shape=number_of_features, hp_param=ffnn_parameters)\n",
    "            cnn, input_sequence_data, last_hidden_cnn = build_binary_classification_cnn(window_size=WINDOW_SIZE, hp_param=cnn_parameters)\n",
    "            mmnn_simple = build_binary_classification_mmnn(hp_param_ffnn=ffnn_parameters,\n",
    "                                                            hp_param_cnn=cnn_parameters,\n",
    "                                                            hp_param_mmnn=mmnn_parameters,\n",
    "                                                            input_shape=number_of_features,\n",
    "                                                            window_size=WINDOW_SIZE\n",
    "            )\n",
    "            \n",
    "            mmnn_boosted = build_binary_classification_mmnn(\n",
    "                hp_param_mmnn=mmnn_parameters,\n",
    "                input_sequence_data=input_sequence_data,\n",
    "                input_epigenomic_data=input_epigenomic_data,\n",
    "                last_hidden_ffnn=last_hidden_ffnn,\n",
    "                last_hidden_cnn=last_hidden_cnn\n",
    "            )\n",
    "            \n",
    "            for model, train_sequence, test_sequence in tqdm(\n",
    "                (\n",
    "                    (ffnn, get_ffnn_sequence(train_X, train_y), get_ffnn_sequence(test_X, test_y)),\n",
    "                    (cnn, get_cnn_sequence(genome, train_bed, train_y), get_cnn_sequence(genome, test_bed, test_y)),\n",
    "                    (mmnn_simple, get_mmnn_sequence(genome, train_bed, train_X, train_y), get_mmnn_sequence(genome, test_bed, test_X, test_y)),\n",
    "                    (mmnn_boosted, get_mmnn_sequence(genome, train_bed, train_X, train_y), get_mmnn_sequence(genome, test_bed, test_X, test_y)),\n",
    "                ),\n",
    "                desc=\"Training models\",\n",
    "                leave=False\n",
    "            ):\n",
    "\n",
    "                # We compute the model performance\n",
    "                history, performance = train_model(\n",
    "                    model,\n",
    "                    model.name+\"V1\",\n",
    "                    task_name,\n",
    "                    CELL_LINE,\n",
    "                    train_sequence,\n",
    "                    test_sequence,\n",
    "                    holdout_number,\n",
    "                    use_feature_selection,\n",
    "                    start_time\n",
    "                )\n",
    "                training_histories[task_name].append(history)\n",
    "                # We chain the computed performance to the performance list\n",
    "                all_binary_classification_performance.append(performance)\n",
    "\n",
    "                start_time = time.time()\n",
    "\n",
    "# We convert the computed performance list into a DataFrame\n",
    "all_binary_classification_performance = pd.concat(all_binary_classification_performance)"
   ]
  },
  {
   "cell_type": "code",
   "execution_count": null,
   "metadata": {},
   "outputs": [],
   "source": [
    "all_binary_classification_performance.to_csv(f\"results/all_binary_classification_performance.csv\", index=False)"
   ]
  },
  {
   "cell_type": "code",
   "execution_count": null,
   "metadata": {
    "colab": {
     "base_uri": "https://localhost:8080/",
     "height": 571
    },
    "executionInfo": {
     "elapsed": 315,
     "status": "ok",
     "timestamp": 1639305486945,
     "user": {
      "displayName": "Giuseppe Bonura",
      "photoUrl": "https://lh3.googleusercontent.com/a-/AOh14Ggpg6yYD2jl5FC3Q18YRd8xIR88r8Qu4T2XUmowMA=s64",
      "userId": "06482237288690829528"
     },
     "user_tz": -60
    },
    "id": "-HeIw2ivwJyi",
    "outputId": "3e4013b4-f5c1-446d-f972-f083941353c5"
   },
   "outputs": [],
   "source": [
    "all_binary_classification_performance"
   ]
  },
  {
   "cell_type": "code",
   "execution_count": null,
   "metadata": {
    "colab": {
     "base_uri": "https://localhost:8080/",
     "height": 1000
    },
    "executionInfo": {
     "elapsed": 782,
     "status": "ok",
     "timestamp": 1639238131359,
     "user": {
      "displayName": "Giuseppe Bonura",
      "photoUrl": "https://lh3.googleusercontent.com/a-/AOh14Ggpg6yYD2jl5FC3Q18YRd8xIR88r8Qu4T2XUmowMA=s64",
      "userId": "06482237288690829528"
     },
     "user_tz": -60
    },
    "id": "f2vjOOsLMnsh",
    "outputId": "9a32746e-6049-4c94-dc89-73b9257559e4"
   },
   "outputs": [],
   "source": [
    "all_binary_classification_performance[all_binary_classification_performance['run_type'] == 'test'].sort_values(by='AUPRC', ascending=False)"
   ]
  },
  {
   "cell_type": "code",
   "execution_count": null,
   "metadata": {
    "colab": {
     "base_uri": "https://localhost:8080/",
     "height": 1000
    },
    "executionInfo": {
     "elapsed": 36156,
     "status": "ok",
     "timestamp": 1639238167504,
     "user": {
      "displayName": "Giuseppe Bonura",
      "photoUrl": "https://lh3.googleusercontent.com/a-/AOh14Ggpg6yYD2jl5FC3Q18YRd8xIR88r8Qu4T2XUmowMA=s64",
      "userId": "06482237288690829528"
     },
     "user_tz": -60
    },
    "id": "BwMa9KGfiEky",
    "outputId": "4f13175f-f586-48e8-9f1f-c4c4bd52c783"
   },
   "outputs": [],
   "source": [
    "from plot_keras_history import plot_history\n",
    "\n",
    "for region, x in training_histories.items():\n",
    "  plot_history(training_histories[region], title=region, graphs_per_row=6)"
   ]
  }
 ],
 "metadata": {
  "colab": {
   "collapsed_sections": [],
   "name": "FFNN_Optymize.ipynb",
   "provenance": []
  },
  "kernelspec": {
   "display_name": "Python 3 (ipykernel)",
   "language": "python",
   "name": "python3"
  },
  "language_info": {
   "codemirror_mode": {
    "name": "ipython",
    "version": 3
   },
   "file_extension": ".py",
   "mimetype": "text/x-python",
   "name": "python",
   "nbconvert_exporter": "python",
   "pygments_lexer": "ipython3",
   "version": "3.7.4rc1"
  },
  "pycharm": {
   "stem_cell": {
    "cell_type": "raw",
    "metadata": {
     "collapsed": false
    },
    "source": [
     "\n"
    ]
   }
  }
 },
 "nbformat": 4,
 "nbformat_minor": 0
}
